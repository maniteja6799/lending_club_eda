{
 "cells": [
  {
   "cell_type": "code",
   "execution_count": 1,
   "id": "d22dc909",
   "metadata": {
    "tags": []
   },
   "outputs": [],
   "source": [
    "import numpy as np, pandas as pd\n",
    "import matplotlib.pyplot as plt\n",
    "import re"
   ]
  },
  {
   "cell_type": "code",
   "execution_count": 2,
   "id": "2ea9510b-ede9-46fc-a813-c8f39458b751",
   "metadata": {
    "tags": []
   },
   "outputs": [],
   "source": [
    "pd.options.display.max_colwidth = 200"
   ]
  },
  {
   "cell_type": "markdown",
   "id": "662b2da7-3703-4786-b130-19cc6273362d",
   "metadata": {},
   "source": [
    "### Load and inspect data"
   ]
  },
  {
   "cell_type": "code",
   "execution_count": 3,
   "id": "c40eeffc",
   "metadata": {
    "scrolled": true,
    "tags": []
   },
   "outputs": [
    {
     "name": "stdout",
     "output_type": "stream",
     "text": [
      "<class 'pandas.core.frame.DataFrame'>\n",
      "RangeIndex: 39717 entries, 0 to 39716\n",
      "Columns: 111 entries, id to total_il_high_credit_limit\n",
      "dtypes: float64(74), int64(13), object(24)\n",
      "memory usage: 33.6+ MB\n"
     ]
    }
   ],
   "source": [
    "loan_data_df = pd.read_csv('loan.csv', low_memory=False)\n",
    "column_desc_df = pd.read_excel('Data_Dictionary.xlsx')\n",
    "loan_data_df.info()\n",
    "before_cols = len(loan_data_df.columns)"
   ]
  },
  {
   "cell_type": "markdown",
   "id": "1254c5c6-e21c-4eaa-8e1e-43c35af25814",
   "metadata": {
    "tags": []
   },
   "source": [
    "### Finding Columns having all Null or 90% Null data"
   ]
  },
  {
   "cell_type": "markdown",
   "id": "a2925815-f4db-478a-bb85-12e6ead23982",
   "metadata": {
    "tags": []
   },
   "source": [
    "#### Columns having all Null"
   ]
  },
  {
   "cell_type": "code",
   "execution_count": 4,
   "id": "51c88e6b-250a-4104-a5be-8e26dd29776a",
   "metadata": {
    "tags": []
   },
   "outputs": [
    {
     "name": "stdout",
     "output_type": "stream",
     "text": [
      "Total number of all empty columns are : 54\n",
      "\n",
      "['mths_since_last_major_derog', 'annual_inc_joint', 'dti_joint', 'verification_status_joint', 'tot_coll_amt', 'tot_cur_bal', 'open_acc_6m', 'open_il_6m', 'open_il_12m', 'open_il_24m', 'mths_since_rcnt_il', 'total_bal_il', 'il_util', 'open_rv_12m', 'open_rv_24m', 'max_bal_bc', 'all_util', 'total_rev_hi_lim', 'inq_fi', 'total_cu_tl', 'inq_last_12m', 'acc_open_past_24mths', 'avg_cur_bal', 'bc_open_to_buy', 'bc_util', 'mo_sin_old_il_acct', 'mo_sin_old_rev_tl_op', 'mo_sin_rcnt_rev_tl_op', 'mo_sin_rcnt_tl', 'mort_acc', 'mths_since_recent_bc', 'mths_since_recent_bc_dlq', 'mths_since_recent_inq', 'mths_since_recent_revol_delinq', 'num_accts_ever_120_pd', 'num_actv_bc_tl', 'num_actv_rev_tl', 'num_bc_sats', 'num_bc_tl', 'num_il_tl', 'num_op_rev_tl', 'num_rev_accts', 'num_rev_tl_bal_gt_0', 'num_sats', 'num_tl_120dpd_2m', 'num_tl_30dpd', 'num_tl_90g_dpd_24m', 'num_tl_op_past_12m', 'pct_tl_nvr_dlq', 'percent_bc_gt_75', 'tot_hi_cred_lim', 'total_bal_ex_mort', 'total_bc_limit', 'total_il_high_credit_limit']\n"
     ]
    }
   ],
   "source": [
    "all_empty_cols= loan_data_df.columns[loan_data_df.isna().all()].tolist()\n",
    "print(f\"Total number of all empty columns are : {len(all_empty_cols)}\\n\")\n",
    "print(all_empty_cols)"
   ]
  },
  {
   "cell_type": "markdown",
   "id": "957535b5-e25f-43cb-9a5e-baa5ff2d33e7",
   "metadata": {
    "tags": []
   },
   "source": [
    " #### All Columns having 90% or more Null data\n",
    "\n",
    " **Note:** Following list will be the superset of previous list."
   ]
  },
  {
   "cell_type": "code",
   "execution_count": 5,
   "id": "58a3d895-5d39-4e33-8ae7-6e2ba63bb464",
   "metadata": {
    "tags": []
   },
   "outputs": [
    {
     "name": "stdout",
     "output_type": "stream",
     "text": [
      "Columns with atleast 90% of empty columns are : 56\n",
      "\n",
      "['mths_since_last_record', 'next_pymnt_d', 'mths_since_last_major_derog', 'annual_inc_joint', 'dti_joint', 'verification_status_joint', 'tot_coll_amt', 'tot_cur_bal', 'open_acc_6m', 'open_il_6m', 'open_il_12m', 'open_il_24m', 'mths_since_rcnt_il', 'total_bal_il', 'il_util', 'open_rv_12m', 'open_rv_24m', 'max_bal_bc', 'all_util', 'total_rev_hi_lim', 'inq_fi', 'total_cu_tl', 'inq_last_12m', 'acc_open_past_24mths', 'avg_cur_bal', 'bc_open_to_buy', 'bc_util', 'mo_sin_old_il_acct', 'mo_sin_old_rev_tl_op', 'mo_sin_rcnt_rev_tl_op', 'mo_sin_rcnt_tl', 'mort_acc', 'mths_since_recent_bc', 'mths_since_recent_bc_dlq', 'mths_since_recent_inq', 'mths_since_recent_revol_delinq', 'num_accts_ever_120_pd', 'num_actv_bc_tl', 'num_actv_rev_tl', 'num_bc_sats', 'num_bc_tl', 'num_il_tl', 'num_op_rev_tl', 'num_rev_accts', 'num_rev_tl_bal_gt_0', 'num_sats', 'num_tl_120dpd_2m', 'num_tl_30dpd', 'num_tl_90g_dpd_24m', 'num_tl_op_past_12m', 'pct_tl_nvr_dlq', 'percent_bc_gt_75', 'tot_hi_cred_lim', 'total_bal_ex_mort', 'total_bc_limit', 'total_il_high_credit_limit']\n"
     ]
    }
   ],
   "source": [
    "atleast_90pct_empty = loan_data_df.columns[~(loan_data_df.isnull().sum(axis=0) <= loan_data_df.shape[0] * 0.9)].tolist()\n",
    "print(f\"Columns with atleast 90% of empty columns are : {len(atleast_90pct_empty)}\\n\")\n",
    "print(atleast_90pct_empty)"
   ]
  },
  {
   "cell_type": "markdown",
   "id": "a954eb02-f1dd-4163-8f08-a200df3b9783",
   "metadata": {},
   "source": [
    "### Data Cleanup"
   ]
  },
  {
   "cell_type": "markdown",
   "id": "39fd6c07-fec2-4303-986c-e86a8656794d",
   "metadata": {},
   "source": [
    "#### Delete all or 90% empty columns"
   ]
  },
  {
   "cell_type": "code",
   "execution_count": 6,
   "id": "2994efd4",
   "metadata": {
    "tags": []
   },
   "outputs": [],
   "source": [
    "# Remove all columns with null values\n",
    "loan_data_df = loan_data_df.dropna(axis=1, how='all')\n",
    "# Remove all columns with 90% null values\n",
    "loan_data_df = loan_data_df.loc[:, (loan_data_df.isnull().sum(axis=0) <= loan_data_df.shape[0] * 0.9)]"
   ]
  },
  {
   "cell_type": "markdown",
   "id": "a7148b16-beae-4a3d-a091-6a2529da42af",
   "metadata": {},
   "source": [
    "#### Remove columns which have constant as a value. \n",
    "These will become metadata for the dataset because the dataset has only one value for them.\n",
    "eg. all values in column: pymnt_plan are `n`."
   ]
  },
  {
   "cell_type": "code",
   "execution_count": 7,
   "id": "3b696398",
   "metadata": {
    "tags": []
   },
   "outputs": [
    {
     "name": "stdout",
     "output_type": "stream",
     "text": [
      "Columns having constant values: {'pymnt_plan': 'n', 'initial_list_status': 'f', 'collections_12_mths_ex_med': 0.0, 'policy_code': 1, 'application_type': 'INDIVIDUAL', 'acc_now_delinq': 0, 'chargeoff_within_12_mths': 0.0, 'delinq_amnt': 0, 'tax_liens': 0.0}\n",
      "\n",
      "Columns to be removed : dict_keys(['pymnt_plan', 'initial_list_status', 'collections_12_mths_ex_med', 'policy_code', 'application_type', 'acc_now_delinq', 'chargeoff_within_12_mths', 'delinq_amnt', 'tax_liens'])\n",
      "\n"
     ]
    }
   ],
   "source": [
    "constant_cols_dict = { c : loan_data_df[c].value_counts().index[0] for c in loan_data_df.columns if loan_data_df[c].value_counts().count() == 1} \n",
    "\n",
    "print(f\"Columns having constant values: {constant_cols_dict}\\n\")\n",
    "\n",
    "print(f\"Columns to be removed : {constant_cols_dict.keys()}\\n\")\n",
    "\n",
    "loan_data_df.drop(columns=constant_cols_dict.keys(), inplace=True) \n"
   ]
  },
  {
   "cell_type": "markdown",
   "id": "4f0fd843-80e1-4dd1-9eaa-b1e640f03081",
   "metadata": {},
   "source": [
    "#### Inspecting data in columns, \n",
    "Some columns can be removed since they don't give much use to the analysis"
   ]
  },
  {
   "cell_type": "code",
   "execution_count": 8,
   "id": "978f12a2-e054-46f1-abc9-ab8051bd01af",
   "metadata": {
    "tags": []
   },
   "outputs": [
    {
     "name": "stdout",
     "output_type": "stream",
     "text": [
      "desc, purpose, title are similar - title and desc seem to be human added and have more distinct values. Purpose has a finite list and it alone can be looked at and drop desc and title.\n",
      "\n",
      "-------title-----------\n",
      " Index(['Debt Consolidation', 'Debt Consolidation Loan', 'Personal Loan',\n",
      "       'Consolidation', 'debt consolidation', 'Home Improvement',\n",
      "       'Credit Card Consolidation', 'Debt consolidation',\n",
      "       'Small Business Loan', 'Credit Card Loan',\n",
      "       ...\n",
      "       'GUNNER', 'Major Credit Card Consolidation',\n",
      "       'Debt consolidation at lower rate', 'Simplified Finances',\n",
      "       'Get those cards paid!', 'To Pay Off A High Interest Credit Card',\n",
      "       'Debt Reduction Loan', 'PAY MY CREDIT CARD ', 'Hate Wellsfargo ',\n",
      "       'Darren's Car'],\n",
      "      dtype='object', length=19615) \n",
      "-------purpose-----------\n",
      " Index(['debt_consolidation', 'credit_card', 'other', 'home_improvement',\n",
      "       'major_purchase', 'small_business', 'car', 'wedding', 'medical',\n",
      "       'moving', 'vacation', 'house', 'educational', 'renewable_energy'],\n",
      "      dtype='object')\n",
      "url column has external url for lending club, and not much use to analysys\n",
      "0    https://lendingclub.com/browse/loanDetail.action?loan_id=1077501\n",
      "1    https://lendingclub.com/browse/loanDetail.action?loan_id=1077430\n",
      "2    https://lendingclub.com/browse/loanDetail.action?loan_id=1077175\n",
      "3    https://lendingclub.com/browse/loanDetail.action?loan_id=1076863\n",
      "4    https://lendingclub.com/browse/loanDetail.action?loan_id=1075358\n",
      "Name: url, dtype: object\n"
     ]
    }
   ],
   "source": [
    "print(\"desc, purpose, title are similar - title and desc seem to be human added and have more distinct values. Purpose has a finite list and it alone can be looked at and drop desc and title.\")\n",
    "print(\"\\n-------title-----------\\n\", loan_data_df.title.value_counts().index, \n",
    "      # \"\\n-------desc----------\\n\", loan_data_df.desc.value_counts().index, # Too much data. skipping print\n",
    "      \"\\n-------purpose-----------\\n\", loan_data_df.purpose.value_counts().index)\n",
    "cols_to_drop = ['title', 'desc']\n",
    "print(\"url column has external url for lending club, and not much use to analysys\")\n",
    "print(loan_data_df.url.head())\n",
    "cols_to_drop.append('url')\n",
    "loan_data_df.drop(columns=cols_to_drop, inplace=True) "
   ]
  },
  {
   "cell_type": "markdown",
   "id": "1d49299d-ec61-4d00-bce4-7f3641226b47",
   "metadata": {},
   "source": [
    "#### Dataset after removed columns"
   ]
  },
  {
   "cell_type": "code",
   "execution_count": 9,
   "id": "36a49a4e-6d5a-4186-89f6-2d3e5ea54b0d",
   "metadata": {
    "tags": []
   },
   "outputs": [
    {
     "name": "stdout",
     "output_type": "stream",
     "text": [
      "The no. columns are reduced from 111 to 43\n"
     ]
    }
   ],
   "source": [
    "print(f\"The no. columns are reduced from {before_cols} to {len(loan_data_df.columns)}\")"
   ]
  },
  {
   "cell_type": "code",
   "execution_count": 10,
   "id": "66dfdeea-bdaa-4c77-b41f-fe894c3d4d31",
   "metadata": {
    "tags": []
   },
   "outputs": [
    {
     "name": "stdout",
     "output_type": "stream",
     "text": [
      "<class 'pandas.core.frame.DataFrame'>\n",
      "RangeIndex: 39717 entries, 0 to 39716\n",
      "Data columns (total 43 columns):\n",
      " #   Column                   Non-Null Count  Dtype  \n",
      "---  ------                   --------------  -----  \n",
      " 0   id                       39717 non-null  int64  \n",
      " 1   member_id                39717 non-null  int64  \n",
      " 2   loan_amnt                39717 non-null  int64  \n",
      " 3   funded_amnt              39717 non-null  int64  \n",
      " 4   funded_amnt_inv          39717 non-null  float64\n",
      " 5   term                     39717 non-null  object \n",
      " 6   int_rate                 39717 non-null  object \n",
      " 7   installment              39717 non-null  float64\n",
      " 8   grade                    39717 non-null  object \n",
      " 9   sub_grade                39717 non-null  object \n",
      " 10  emp_title                37258 non-null  object \n",
      " 11  emp_length               38642 non-null  object \n",
      " 12  home_ownership           39717 non-null  object \n",
      " 13  annual_inc               39717 non-null  float64\n",
      " 14  verification_status      39717 non-null  object \n",
      " 15  issue_d                  39717 non-null  object \n",
      " 16  loan_status              39717 non-null  object \n",
      " 17  purpose                  39717 non-null  object \n",
      " 18  zip_code                 39717 non-null  object \n",
      " 19  addr_state               39717 non-null  object \n",
      " 20  dti                      39717 non-null  float64\n",
      " 21  delinq_2yrs              39717 non-null  int64  \n",
      " 22  earliest_cr_line         39717 non-null  object \n",
      " 23  inq_last_6mths           39717 non-null  int64  \n",
      " 24  mths_since_last_delinq   14035 non-null  float64\n",
      " 25  open_acc                 39717 non-null  int64  \n",
      " 26  pub_rec                  39717 non-null  int64  \n",
      " 27  revol_bal                39717 non-null  int64  \n",
      " 28  revol_util               39667 non-null  object \n",
      " 29  total_acc                39717 non-null  int64  \n",
      " 30  out_prncp                39717 non-null  float64\n",
      " 31  out_prncp_inv            39717 non-null  float64\n",
      " 32  total_pymnt              39717 non-null  float64\n",
      " 33  total_pymnt_inv          39717 non-null  float64\n",
      " 34  total_rec_prncp          39717 non-null  float64\n",
      " 35  total_rec_int            39717 non-null  float64\n",
      " 36  total_rec_late_fee       39717 non-null  float64\n",
      " 37  recoveries               39717 non-null  float64\n",
      " 38  collection_recovery_fee  39717 non-null  float64\n",
      " 39  last_pymnt_d             39646 non-null  object \n",
      " 40  last_pymnt_amnt          39717 non-null  float64\n",
      " 41  last_credit_pull_d       39715 non-null  object \n",
      " 42  pub_rec_bankruptcies     39020 non-null  float64\n",
      "dtypes: float64(16), int64(10), object(17)\n",
      "memory usage: 13.0+ MB\n"
     ]
    }
   ],
   "source": [
    "loan_data_df.info()"
   ]
  },
  {
   "cell_type": "code",
   "execution_count": 11,
   "id": "c6b1a3a2-60a3-4dda-9140-da342ef92320",
   "metadata": {
    "tags": []
   },
   "outputs": [
    {
     "data": {
      "text/html": [
       "<div>\n",
       "<style scoped>\n",
       "    .dataframe tbody tr th:only-of-type {\n",
       "        vertical-align: middle;\n",
       "    }\n",
       "\n",
       "    .dataframe tbody tr th {\n",
       "        vertical-align: top;\n",
       "    }\n",
       "\n",
       "    .dataframe thead th {\n",
       "        text-align: right;\n",
       "    }\n",
       "</style>\n",
       "<table border=\"1\" class=\"dataframe\">\n",
       "  <thead>\n",
       "    <tr style=\"text-align: right;\">\n",
       "      <th></th>\n",
       "      <th>id</th>\n",
       "      <th>member_id</th>\n",
       "      <th>loan_amnt</th>\n",
       "      <th>funded_amnt</th>\n",
       "      <th>funded_amnt_inv</th>\n",
       "      <th>term</th>\n",
       "      <th>int_rate</th>\n",
       "      <th>installment</th>\n",
       "      <th>grade</th>\n",
       "      <th>sub_grade</th>\n",
       "      <th>...</th>\n",
       "      <th>total_pymnt_inv</th>\n",
       "      <th>total_rec_prncp</th>\n",
       "      <th>total_rec_int</th>\n",
       "      <th>total_rec_late_fee</th>\n",
       "      <th>recoveries</th>\n",
       "      <th>collection_recovery_fee</th>\n",
       "      <th>last_pymnt_d</th>\n",
       "      <th>last_pymnt_amnt</th>\n",
       "      <th>last_credit_pull_d</th>\n",
       "      <th>pub_rec_bankruptcies</th>\n",
       "    </tr>\n",
       "  </thead>\n",
       "  <tbody>\n",
       "    <tr>\n",
       "      <th>0</th>\n",
       "      <td>1077501</td>\n",
       "      <td>1296599</td>\n",
       "      <td>5000</td>\n",
       "      <td>5000</td>\n",
       "      <td>4975.0</td>\n",
       "      <td>36 months</td>\n",
       "      <td>10.65%</td>\n",
       "      <td>162.87</td>\n",
       "      <td>B</td>\n",
       "      <td>B2</td>\n",
       "      <td>...</td>\n",
       "      <td>5833.84</td>\n",
       "      <td>5000.00</td>\n",
       "      <td>863.16</td>\n",
       "      <td>0.00</td>\n",
       "      <td>0.00</td>\n",
       "      <td>0.00</td>\n",
       "      <td>Jan-15</td>\n",
       "      <td>171.62</td>\n",
       "      <td>May-16</td>\n",
       "      <td>0.0</td>\n",
       "    </tr>\n",
       "    <tr>\n",
       "      <th>1</th>\n",
       "      <td>1077430</td>\n",
       "      <td>1314167</td>\n",
       "      <td>2500</td>\n",
       "      <td>2500</td>\n",
       "      <td>2500.0</td>\n",
       "      <td>60 months</td>\n",
       "      <td>15.27%</td>\n",
       "      <td>59.83</td>\n",
       "      <td>C</td>\n",
       "      <td>C4</td>\n",
       "      <td>...</td>\n",
       "      <td>1008.71</td>\n",
       "      <td>456.46</td>\n",
       "      <td>435.17</td>\n",
       "      <td>0.00</td>\n",
       "      <td>117.08</td>\n",
       "      <td>1.11</td>\n",
       "      <td>Apr-13</td>\n",
       "      <td>119.66</td>\n",
       "      <td>Sep-13</td>\n",
       "      <td>0.0</td>\n",
       "    </tr>\n",
       "    <tr>\n",
       "      <th>2</th>\n",
       "      <td>1077175</td>\n",
       "      <td>1313524</td>\n",
       "      <td>2400</td>\n",
       "      <td>2400</td>\n",
       "      <td>2400.0</td>\n",
       "      <td>36 months</td>\n",
       "      <td>15.96%</td>\n",
       "      <td>84.33</td>\n",
       "      <td>C</td>\n",
       "      <td>C5</td>\n",
       "      <td>...</td>\n",
       "      <td>3005.67</td>\n",
       "      <td>2400.00</td>\n",
       "      <td>605.67</td>\n",
       "      <td>0.00</td>\n",
       "      <td>0.00</td>\n",
       "      <td>0.00</td>\n",
       "      <td>Jun-14</td>\n",
       "      <td>649.91</td>\n",
       "      <td>May-16</td>\n",
       "      <td>0.0</td>\n",
       "    </tr>\n",
       "    <tr>\n",
       "      <th>3</th>\n",
       "      <td>1076863</td>\n",
       "      <td>1277178</td>\n",
       "      <td>10000</td>\n",
       "      <td>10000</td>\n",
       "      <td>10000.0</td>\n",
       "      <td>36 months</td>\n",
       "      <td>13.49%</td>\n",
       "      <td>339.31</td>\n",
       "      <td>C</td>\n",
       "      <td>C1</td>\n",
       "      <td>...</td>\n",
       "      <td>12231.89</td>\n",
       "      <td>10000.00</td>\n",
       "      <td>2214.92</td>\n",
       "      <td>16.97</td>\n",
       "      <td>0.00</td>\n",
       "      <td>0.00</td>\n",
       "      <td>Jan-15</td>\n",
       "      <td>357.48</td>\n",
       "      <td>Apr-16</td>\n",
       "      <td>0.0</td>\n",
       "    </tr>\n",
       "    <tr>\n",
       "      <th>4</th>\n",
       "      <td>1075358</td>\n",
       "      <td>1311748</td>\n",
       "      <td>3000</td>\n",
       "      <td>3000</td>\n",
       "      <td>3000.0</td>\n",
       "      <td>60 months</td>\n",
       "      <td>12.69%</td>\n",
       "      <td>67.79</td>\n",
       "      <td>B</td>\n",
       "      <td>B5</td>\n",
       "      <td>...</td>\n",
       "      <td>3513.33</td>\n",
       "      <td>2475.94</td>\n",
       "      <td>1037.39</td>\n",
       "      <td>0.00</td>\n",
       "      <td>0.00</td>\n",
       "      <td>0.00</td>\n",
       "      <td>May-16</td>\n",
       "      <td>67.79</td>\n",
       "      <td>May-16</td>\n",
       "      <td>0.0</td>\n",
       "    </tr>\n",
       "  </tbody>\n",
       "</table>\n",
       "<p>5 rows × 43 columns</p>\n",
       "</div>"
      ],
      "text/plain": [
       "        id  member_id  loan_amnt  funded_amnt  funded_amnt_inv        term  \\\n",
       "0  1077501    1296599       5000         5000           4975.0   36 months   \n",
       "1  1077430    1314167       2500         2500           2500.0   60 months   \n",
       "2  1077175    1313524       2400         2400           2400.0   36 months   \n",
       "3  1076863    1277178      10000        10000          10000.0   36 months   \n",
       "4  1075358    1311748       3000         3000           3000.0   60 months   \n",
       "\n",
       "  int_rate  installment grade sub_grade  ... total_pymnt_inv total_rec_prncp  \\\n",
       "0   10.65%       162.87     B        B2  ...         5833.84         5000.00   \n",
       "1   15.27%        59.83     C        C4  ...         1008.71          456.46   \n",
       "2   15.96%        84.33     C        C5  ...         3005.67         2400.00   \n",
       "3   13.49%       339.31     C        C1  ...        12231.89        10000.00   \n",
       "4   12.69%        67.79     B        B5  ...         3513.33         2475.94   \n",
       "\n",
       "  total_rec_int  total_rec_late_fee recoveries collection_recovery_fee  \\\n",
       "0        863.16                0.00       0.00                    0.00   \n",
       "1        435.17                0.00     117.08                    1.11   \n",
       "2        605.67                0.00       0.00                    0.00   \n",
       "3       2214.92               16.97       0.00                    0.00   \n",
       "4       1037.39                0.00       0.00                    0.00   \n",
       "\n",
       "  last_pymnt_d last_pymnt_amnt last_credit_pull_d pub_rec_bankruptcies  \n",
       "0       Jan-15          171.62             May-16                  0.0  \n",
       "1       Apr-13          119.66             Sep-13                  0.0  \n",
       "2       Jun-14          649.91             May-16                  0.0  \n",
       "3       Jan-15          357.48             Apr-16                  0.0  \n",
       "4       May-16           67.79             May-16                  0.0  \n",
       "\n",
       "[5 rows x 43 columns]"
      ]
     },
     "execution_count": 11,
     "metadata": {},
     "output_type": "execute_result"
    }
   ],
   "source": [
    "loan_data_df.head(5)"
   ]
  },
  {
   "cell_type": "markdown",
   "id": "0ba56050-08b6-42cc-bd26-db3ea2a9ed7c",
   "metadata": {},
   "source": [
    "#### Convert the columns to correct datatypes"
   ]
  },
  {
   "cell_type": "code",
   "execution_count": 12,
   "id": "0ead53fd-86c3-4739-b4fa-9c216c8214c0",
   "metadata": {
    "tags": []
   },
   "outputs": [],
   "source": [
    "from datetime import date, datetime\n",
    "def convert_emp_length(l):\n",
    "    if pd.isna(l):\n",
    "        return np.nan\n",
    "    elif l == '< 1 year':\n",
    "        return 0\n",
    "    elif l == '10+ years':\n",
    "        return 10\n",
    "    else:\n",
    "        return int(str(l)[0])\n",
    "\n",
    "def convert_period_to_date(p):\n",
    "    period_parts = p.split('-')\n",
    "    return date( int(f\"19{period_parts[1]}\" if int(period_parts[1]) > 30 else f\"20{period_parts[1]}\") ,  datetime.strptime(period_parts[0],'%b').month, 1) "
   ]
  },
  {
   "cell_type": "code",
   "execution_count": 13,
   "id": "2728e07b-fff6-4d2d-8759-295d5127ce5b",
   "metadata": {
    "tags": []
   },
   "outputs": [],
   "source": [
    "# numbers\n",
    "loan_data_df.term               = loan_data_df.term.apply(lambda x: int(str(x)[:3]))\n",
    "loan_data_df.emp_length         = loan_data_df.emp_length.apply(convert_emp_length) \n",
    "# percentages\n",
    "loan_data_df.int_rate           = loan_data_df.int_rate.apply(lambda x: float(str(x)[:-1])/100)\n",
    "loan_data_df.revol_util         = loan_data_df.revol_util.apply(lambda x: (float(str(x)[:-1])/100) if str(x) != 'nan' else x)\n",
    "# dates\n",
    "#loan_data_df.issue_d            = pd.to_datetime(loan_data_df.issue_d, format='%b-%y')\n",
    "loan_data_df.earliest_cr_line   = loan_data_df.earliest_cr_line.apply(convert_period_to_date) # pd.to_datetime(loan_data_df.earliest_cr_line, format='%b-%y')\n",
    "loan_data_df.last_pymnt_d       = pd.to_datetime(loan_data_df.last_pymnt_d, format='%b-%y')\n",
    "loan_data_df.last_credit_pull_d = pd.to_datetime(loan_data_df.last_credit_pull_d, format='%b-%y')\n"
   ]
  },
  {
   "cell_type": "code",
   "execution_count": 14,
   "id": "8c9bcdfa-1601-41ae-93a3-732b69fbe2d4",
   "metadata": {
    "tags": []
   },
   "outputs": [
    {
     "name": "stdout",
     "output_type": "stream",
     "text": [
      "<class 'pandas.core.frame.DataFrame'>\n",
      "RangeIndex: 39717 entries, 0 to 39716\n",
      "Data columns (total 43 columns):\n",
      " #   Column                   Non-Null Count  Dtype         \n",
      "---  ------                   --------------  -----         \n",
      " 0   id                       39717 non-null  int64         \n",
      " 1   member_id                39717 non-null  int64         \n",
      " 2   loan_amnt                39717 non-null  int64         \n",
      " 3   funded_amnt              39717 non-null  int64         \n",
      " 4   funded_amnt_inv          39717 non-null  float64       \n",
      " 5   term                     39717 non-null  int64         \n",
      " 6   int_rate                 39717 non-null  float64       \n",
      " 7   installment              39717 non-null  float64       \n",
      " 8   grade                    39717 non-null  object        \n",
      " 9   sub_grade                39717 non-null  object        \n",
      " 10  emp_title                37258 non-null  object        \n",
      " 11  emp_length               38642 non-null  float64       \n",
      " 12  home_ownership           39717 non-null  object        \n",
      " 13  annual_inc               39717 non-null  float64       \n",
      " 14  verification_status      39717 non-null  object        \n",
      " 15  issue_d                  39717 non-null  object        \n",
      " 16  loan_status              39717 non-null  object        \n",
      " 17  purpose                  39717 non-null  object        \n",
      " 18  zip_code                 39717 non-null  object        \n",
      " 19  addr_state               39717 non-null  object        \n",
      " 20  dti                      39717 non-null  float64       \n",
      " 21  delinq_2yrs              39717 non-null  int64         \n",
      " 22  earliest_cr_line         39717 non-null  object        \n",
      " 23  inq_last_6mths           39717 non-null  int64         \n",
      " 24  mths_since_last_delinq   14035 non-null  float64       \n",
      " 25  open_acc                 39717 non-null  int64         \n",
      " 26  pub_rec                  39717 non-null  int64         \n",
      " 27  revol_bal                39717 non-null  int64         \n",
      " 28  revol_util               39667 non-null  float64       \n",
      " 29  total_acc                39717 non-null  int64         \n",
      " 30  out_prncp                39717 non-null  float64       \n",
      " 31  out_prncp_inv            39717 non-null  float64       \n",
      " 32  total_pymnt              39717 non-null  float64       \n",
      " 33  total_pymnt_inv          39717 non-null  float64       \n",
      " 34  total_rec_prncp          39717 non-null  float64       \n",
      " 35  total_rec_int            39717 non-null  float64       \n",
      " 36  total_rec_late_fee       39717 non-null  float64       \n",
      " 37  recoveries               39717 non-null  float64       \n",
      " 38  collection_recovery_fee  39717 non-null  float64       \n",
      " 39  last_pymnt_d             39646 non-null  datetime64[ns]\n",
      " 40  last_pymnt_amnt          39717 non-null  float64       \n",
      " 41  last_credit_pull_d       39715 non-null  datetime64[ns]\n",
      " 42  pub_rec_bankruptcies     39020 non-null  float64       \n",
      "dtypes: datetime64[ns](2), float64(19), int64(11), object(11)\n",
      "memory usage: 13.0+ MB\n"
     ]
    }
   ],
   "source": [
    "loan_data_df.info()"
   ]
  },
  {
   "cell_type": "markdown",
   "id": "9f4ae37e-cfdb-4ee6-87b0-f895abb53e65",
   "metadata": {},
   "source": [
    "#### Remove/add value to rows with null values in certain columns"
   ]
  },
  {
   "cell_type": "code",
   "execution_count": 15,
   "id": "e3b6b6d8-ed5a-4fe3-9588-01243672342e",
   "metadata": {
    "tags": []
   },
   "outputs": [
    {
     "data": {
      "text/plain": [
       "emp_title                  2459\n",
       "emp_length                 1075\n",
       "mths_since_last_delinq    25682\n",
       "revol_util                   50\n",
       "last_pymnt_d                 71\n",
       "last_credit_pull_d            2\n",
       "pub_rec_bankruptcies        697\n",
       "dtype: int64"
      ]
     },
     "execution_count": 15,
     "metadata": {},
     "output_type": "execute_result"
    }
   ],
   "source": [
    "loan_data_df.isna().sum()[loan_data_df.isna().sum() > 0]"
   ]
  },
  {
   "cell_type": "code",
   "execution_count": 16,
   "id": "b2e13069-34eb-4c97-9314-c1355f7b7152",
   "metadata": {
    "tags": []
   },
   "outputs": [],
   "source": [
    "# Remove rows with very few (<100) NaNs:\n",
    "cols_with_few_nan_rows = list(loan_data_df.isna().sum()[(loan_data_df.isna().sum() < 700) & (loan_data_df.isna().sum() > 0)].index)\n",
    "for col in cols_with_few_nan_rows:\n",
    "    loan_data_df.drop(loan_data_df[loan_data_df[col].isna()].index, inplace=True)"
   ]
  },
  {
   "cell_type": "code",
   "execution_count": 18,
   "id": "ade8d2db-7f74-48d0-995a-a8b40c3cd59a",
   "metadata": {
    "scrolled": true,
    "tags": []
   },
   "outputs": [
    {
     "data": {
      "text/plain": [
       "1000.0    25594\n",
       "30.0        245\n",
       "23.0        241\n",
       "15.0        241\n",
       "24.0        235\n",
       "          ...  \n",
       "85.0          1\n",
       "89.0          1\n",
       "106.0         1\n",
       "115.0         1\n",
       "96.0          1\n",
       "Name: mths_since_last_delinq, Length: 96, dtype: int64"
      ]
     },
     "execution_count": 18,
     "metadata": {},
     "output_type": "execute_result"
    }
   ],
   "source": [
    "# the borrowers who have not been delinquated forever, we are setting higher value than the max avialable in dataset. \n",
    "loan_data_df.mths_since_last_delinq.fillna(value=1000, inplace=True)\n",
    "loan_data_df.mths_since_last_delinq.value_counts()"
   ]
  },
  {
   "cell_type": "code",
   "execution_count": 19,
   "id": "b0a40dcd-351b-41f9-97f8-ba55d877d607",
   "metadata": {
    "scrolled": true,
    "tags": []
   },
   "outputs": [],
   "source": [
    "# the borrowers who have not been delinquated forever, we are setting higher value than the max avialable in dataset. \n",
    "loan_data_df.drop(loan_data_df[loan_data_df['emp_length'].isna()].index, inplace=True)"
   ]
  },
  {
   "cell_type": "code",
   "execution_count": 23,
   "id": "94c9d83a-771a-4c9a-9af7-e76d34bf6a1c",
   "metadata": {
    "scrolled": true,
    "tags": []
   },
   "outputs": [
    {
     "name": "stdout",
     "output_type": "stream",
     "text": [
      "Columns with non-zero NaN values left:\n"
     ]
    },
    {
     "data": {
      "text/plain": [
       "emp_title    1393\n",
       "dtype: int64"
      ]
     },
     "execution_count": 23,
     "metadata": {},
     "output_type": "execute_result"
    }
   ],
   "source": [
    "print(\"Columns with non-zero NaN values left:\")\n",
    "loan_data_df.isna().sum()[loan_data_df.isna().sum() > 0]"
   ]
  },
  {
   "cell_type": "code",
   "execution_count": 20,
   "id": "07ce8989-464a-4633-a1ec-7240d65f0db3",
   "metadata": {
    "scrolled": true,
    "tags": []
   },
   "outputs": [
    {
     "data": {
      "text/plain": [
       "(37835, 43)"
      ]
     },
     "execution_count": 20,
     "metadata": {},
     "output_type": "execute_result"
    }
   ],
   "source": [
    "# the borrowers who have not been delinquated forever, we are setting higher value than the max avialable in dataset. \n",
    "loan_data_df.shape"
   ]
  },
  {
   "cell_type": "markdown",
   "id": "f517957c-7a88-410d-b8d4-8a72b18ba174",
   "metadata": {
    "tags": []
   },
   "source": [
    "### Final Data Dictionary"
   ]
  },
  {
   "cell_type": "code",
   "execution_count": 21,
   "id": "e2290f10-e363-48da-a581-373ae38774e6",
   "metadata": {
    "tags": []
   },
   "outputs": [],
   "source": [
    "column_desc_df = column_desc_df[column_desc_df.LoanStatNew.isin(loan_data_df.columns)]\n",
    "column_desc_df.reset_index(inplace=True)"
   ]
  },
  {
   "cell_type": "code",
   "execution_count": 22,
   "id": "e4e61f9b",
   "metadata": {
    "tags": []
   },
   "outputs": [
    {
     "data": {
      "text/html": [
       "<div>\n",
       "<style scoped>\n",
       "    .dataframe tbody tr th:only-of-type {\n",
       "        vertical-align: middle;\n",
       "    }\n",
       "\n",
       "    .dataframe tbody tr th {\n",
       "        vertical-align: top;\n",
       "    }\n",
       "\n",
       "    .dataframe thead th {\n",
       "        text-align: right;\n",
       "    }\n",
       "</style>\n",
       "<table border=\"1\" class=\"dataframe\">\n",
       "  <thead>\n",
       "    <tr style=\"text-align: right;\">\n",
       "      <th></th>\n",
       "      <th>LoanStatNew</th>\n",
       "      <th>Description</th>\n",
       "    </tr>\n",
       "  </thead>\n",
       "  <tbody>\n",
       "    <tr>\n",
       "      <th>0</th>\n",
       "      <td>addr_state</td>\n",
       "      <td>The state provided by the borrower in the loan application</td>\n",
       "    </tr>\n",
       "    <tr>\n",
       "      <th>1</th>\n",
       "      <td>annual_inc</td>\n",
       "      <td>The self-reported annual income provided by the borrower during registration.</td>\n",
       "    </tr>\n",
       "    <tr>\n",
       "      <th>2</th>\n",
       "      <td>collection_recovery_fee</td>\n",
       "      <td>post charge off collection fee</td>\n",
       "    </tr>\n",
       "    <tr>\n",
       "      <th>3</th>\n",
       "      <td>delinq_2yrs</td>\n",
       "      <td>The number of 30+ days past-due incidences of delinquency in the borrower's credit file for the past 2 years. This would show the irregular behavior in paying back</td>\n",
       "    </tr>\n",
       "    <tr>\n",
       "      <th>4</th>\n",
       "      <td>dti</td>\n",
       "      <td>A ratio (lower is better) calculated using the borrower’s total monthly debt payments on the total debt obligations, excluding mortgage and the requested LC loan, divided by the borrower’s self-re...</td>\n",
       "    </tr>\n",
       "    <tr>\n",
       "      <th>5</th>\n",
       "      <td>earliest_cr_line</td>\n",
       "      <td>The month the borrower's earliest reported credit line was opened</td>\n",
       "    </tr>\n",
       "    <tr>\n",
       "      <th>6</th>\n",
       "      <td>emp_length</td>\n",
       "      <td>Employment length in years. Possible values are between 0 and 10 where 0 means less than one year and 10 means ten or more years.</td>\n",
       "    </tr>\n",
       "    <tr>\n",
       "      <th>7</th>\n",
       "      <td>emp_title</td>\n",
       "      <td>The job title supplied by the Borrower when applying for the loan.*</td>\n",
       "    </tr>\n",
       "    <tr>\n",
       "      <th>8</th>\n",
       "      <td>funded_amnt</td>\n",
       "      <td>The total amount committed to that loan at that point in time.</td>\n",
       "    </tr>\n",
       "    <tr>\n",
       "      <th>9</th>\n",
       "      <td>funded_amnt_inv</td>\n",
       "      <td>The total amount committed by investors for that loan at that point in time.</td>\n",
       "    </tr>\n",
       "    <tr>\n",
       "      <th>10</th>\n",
       "      <td>grade</td>\n",
       "      <td>LC assigned loan grade</td>\n",
       "    </tr>\n",
       "    <tr>\n",
       "      <th>11</th>\n",
       "      <td>home_ownership</td>\n",
       "      <td>The home ownership status provided by the borrower during registration. Our values are: RENT, OWN, MORTGAGE, OTHER.</td>\n",
       "    </tr>\n",
       "    <tr>\n",
       "      <th>12</th>\n",
       "      <td>id</td>\n",
       "      <td>A unique LC assigned ID for the loan listing.</td>\n",
       "    </tr>\n",
       "    <tr>\n",
       "      <th>13</th>\n",
       "      <td>inq_last_6mths</td>\n",
       "      <td>The number of inquiries in past 6 months (excluding auto and mortgage inquiries), increased inquiry would mean the person is shopping around for loan and possibly getting rejections</td>\n",
       "    </tr>\n",
       "    <tr>\n",
       "      <th>14</th>\n",
       "      <td>installment</td>\n",
       "      <td>The monthly payment owed by the borrower if the loan originates.</td>\n",
       "    </tr>\n",
       "    <tr>\n",
       "      <th>15</th>\n",
       "      <td>int_rate</td>\n",
       "      <td>Interest Rate on the loan Would high interest rate have impact on loan repayment status, candidate for univariate analysis.</td>\n",
       "    </tr>\n",
       "    <tr>\n",
       "      <th>16</th>\n",
       "      <td>issue_d</td>\n",
       "      <td>The month which the loan was funded</td>\n",
       "    </tr>\n",
       "    <tr>\n",
       "      <th>17</th>\n",
       "      <td>last_credit_pull_d</td>\n",
       "      <td>The most recent month LC pulled credit for this loan</td>\n",
       "    </tr>\n",
       "    <tr>\n",
       "      <th>18</th>\n",
       "      <td>last_pymnt_amnt</td>\n",
       "      <td>Last total payment amount received</td>\n",
       "    </tr>\n",
       "    <tr>\n",
       "      <th>19</th>\n",
       "      <td>last_pymnt_d</td>\n",
       "      <td>Last month payment was received</td>\n",
       "    </tr>\n",
       "    <tr>\n",
       "      <th>20</th>\n",
       "      <td>loan_amnt</td>\n",
       "      <td>The listed amount of the loan applied for by the borrower. If at some point in time, the credit department reduces the loan amount, then it will be reflected in this value.</td>\n",
       "    </tr>\n",
       "    <tr>\n",
       "      <th>21</th>\n",
       "      <td>loan_status</td>\n",
       "      <td>Current status of the loan</td>\n",
       "    </tr>\n",
       "    <tr>\n",
       "      <th>22</th>\n",
       "      <td>member_id</td>\n",
       "      <td>A unique LC assigned Id for the borrower member.</td>\n",
       "    </tr>\n",
       "    <tr>\n",
       "      <th>23</th>\n",
       "      <td>mths_since_last_delinq</td>\n",
       "      <td>The number of months since the borrower's last delinquency. NA is good, and then higher the value is better then lower value, it shows the stability of credit profile.</td>\n",
       "    </tr>\n",
       "    <tr>\n",
       "      <th>24</th>\n",
       "      <td>open_acc</td>\n",
       "      <td>The number of open credit lines in the borrower's credit file. More credit lines would show the behavior of taking larger liabilities, which may or may not good, need to correlate with loan status...</td>\n",
       "    </tr>\n",
       "    <tr>\n",
       "      <th>25</th>\n",
       "      <td>out_prncp</td>\n",
       "      <td>Remaining outstanding principal for total amount funded</td>\n",
       "    </tr>\n",
       "    <tr>\n",
       "      <th>26</th>\n",
       "      <td>out_prncp_inv</td>\n",
       "      <td>Remaining outstanding principal for portion of total amount funded by investors</td>\n",
       "    </tr>\n",
       "    <tr>\n",
       "      <th>27</th>\n",
       "      <td>pub_rec</td>\n",
       "      <td>Number of derogatory public records, NA is good, but higher the number then lower the credit rating for the person. It shows that person is meticulous in payments.</td>\n",
       "    </tr>\n",
       "    <tr>\n",
       "      <th>28</th>\n",
       "      <td>pub_rec_bankruptcies</td>\n",
       "      <td>Number of public record bankruptcies, NA is good, but higher bankruptcies mean the person often does not have capacity to pay and may have erratic income sources.</td>\n",
       "    </tr>\n",
       "    <tr>\n",
       "      <th>29</th>\n",
       "      <td>purpose</td>\n",
       "      <td>A category provided by the borrower for the loan request.  Purpose can be a good candidate for segmented univeriate analysis.</td>\n",
       "    </tr>\n",
       "    <tr>\n",
       "      <th>30</th>\n",
       "      <td>recoveries</td>\n",
       "      <td>post charge off gross recovery</td>\n",
       "    </tr>\n",
       "    <tr>\n",
       "      <th>31</th>\n",
       "      <td>revol_bal</td>\n",
       "      <td>Total credit revolving balance. This is basically rollover credit balance (basically paying your credit card bill partially or no payment). Higher the amount is bad.</td>\n",
       "    </tr>\n",
       "    <tr>\n",
       "      <th>32</th>\n",
       "      <td>revol_util</td>\n",
       "      <td>Revolving line utilization rate, or the amount of credit the borrower is using relative to all available revolving credit. The utilization ratio, lower is better. Good candidate for segmented univ...</td>\n",
       "    </tr>\n",
       "    <tr>\n",
       "      <th>33</th>\n",
       "      <td>sub_grade</td>\n",
       "      <td>LC assigned loan subgrade</td>\n",
       "    </tr>\n",
       "    <tr>\n",
       "      <th>34</th>\n",
       "      <td>term</td>\n",
       "      <td>The number of payments on the loan. Values are in months and can be either 36 or 60.</td>\n",
       "    </tr>\n",
       "    <tr>\n",
       "      <th>35</th>\n",
       "      <td>total_acc</td>\n",
       "      <td>The total number of credit lines currently in the borrower's credit file</td>\n",
       "    </tr>\n",
       "    <tr>\n",
       "      <th>36</th>\n",
       "      <td>total_pymnt</td>\n",
       "      <td>Payments received to date for total amount funded</td>\n",
       "    </tr>\n",
       "    <tr>\n",
       "      <th>37</th>\n",
       "      <td>total_pymnt_inv</td>\n",
       "      <td>Payments received to date for portion of total amount funded by investors</td>\n",
       "    </tr>\n",
       "    <tr>\n",
       "      <th>38</th>\n",
       "      <td>total_rec_int</td>\n",
       "      <td>Interest received to date</td>\n",
       "    </tr>\n",
       "    <tr>\n",
       "      <th>39</th>\n",
       "      <td>total_rec_late_fee</td>\n",
       "      <td>Late fees received to date</td>\n",
       "    </tr>\n",
       "    <tr>\n",
       "      <th>40</th>\n",
       "      <td>total_rec_prncp</td>\n",
       "      <td>Principal received to date</td>\n",
       "    </tr>\n",
       "    <tr>\n",
       "      <th>41</th>\n",
       "      <td>verification_status</td>\n",
       "      <td>Indicates if income was verified by LC, not verified, or if the income source was verified</td>\n",
       "    </tr>\n",
       "    <tr>\n",
       "      <th>42</th>\n",
       "      <td>zip_code</td>\n",
       "      <td>The first 3 numbers of the zip code provided by the borrower in the loan application.</td>\n",
       "    </tr>\n",
       "  </tbody>\n",
       "</table>\n",
       "</div>"
      ],
      "text/plain": [
       "                LoanStatNew  \\\n",
       "0                addr_state   \n",
       "1                annual_inc   \n",
       "2   collection_recovery_fee   \n",
       "3               delinq_2yrs   \n",
       "4                       dti   \n",
       "5          earliest_cr_line   \n",
       "6                emp_length   \n",
       "7                 emp_title   \n",
       "8               funded_amnt   \n",
       "9           funded_amnt_inv   \n",
       "10                    grade   \n",
       "11           home_ownership   \n",
       "12                       id   \n",
       "13           inq_last_6mths   \n",
       "14              installment   \n",
       "15                 int_rate   \n",
       "16                  issue_d   \n",
       "17       last_credit_pull_d   \n",
       "18          last_pymnt_amnt   \n",
       "19             last_pymnt_d   \n",
       "20                loan_amnt   \n",
       "21              loan_status   \n",
       "22                member_id   \n",
       "23   mths_since_last_delinq   \n",
       "24                 open_acc   \n",
       "25                out_prncp   \n",
       "26            out_prncp_inv   \n",
       "27                  pub_rec   \n",
       "28     pub_rec_bankruptcies   \n",
       "29                  purpose   \n",
       "30               recoveries   \n",
       "31                revol_bal   \n",
       "32               revol_util   \n",
       "33                sub_grade   \n",
       "34                     term   \n",
       "35                total_acc   \n",
       "36              total_pymnt   \n",
       "37          total_pymnt_inv   \n",
       "38            total_rec_int   \n",
       "39       total_rec_late_fee   \n",
       "40          total_rec_prncp   \n",
       "41      verification_status   \n",
       "42                 zip_code   \n",
       "\n",
       "                                                                                                                                                                                                Description  \n",
       "0                                                                                                                                                The state provided by the borrower in the loan application  \n",
       "1                                                                                                                             The self-reported annual income provided by the borrower during registration.  \n",
       "2                                                                                                                                                                            post charge off collection fee  \n",
       "3                                       The number of 30+ days past-due incidences of delinquency in the borrower's credit file for the past 2 years. This would show the irregular behavior in paying back  \n",
       "4   A ratio (lower is better) calculated using the borrower’s total monthly debt payments on the total debt obligations, excluding mortgage and the requested LC loan, divided by the borrower’s self-re...  \n",
       "5                                                                                                                                         The month the borrower's earliest reported credit line was opened  \n",
       "6                                                                        Employment length in years. Possible values are between 0 and 10 where 0 means less than one year and 10 means ten or more years.   \n",
       "7                                                                                                                                       The job title supplied by the Borrower when applying for the loan.*  \n",
       "8                                                                                                                                            The total amount committed to that loan at that point in time.  \n",
       "9                                                                                                                              The total amount committed by investors for that loan at that point in time.  \n",
       "10                                                                                                                                                                                   LC assigned loan grade  \n",
       "11                                                                                      The home ownership status provided by the borrower during registration. Our values are: RENT, OWN, MORTGAGE, OTHER.  \n",
       "12                                                                                                                                                            A unique LC assigned ID for the loan listing.  \n",
       "13                    The number of inquiries in past 6 months (excluding auto and mortgage inquiries), increased inquiry would mean the person is shopping around for loan and possibly getting rejections  \n",
       "14                                                                                                                                         The monthly payment owed by the borrower if the loan originates.  \n",
       "15                                                                              Interest Rate on the loan Would high interest rate have impact on loan repayment status, candidate for univariate analysis.  \n",
       "16                                                                                                                                                                      The month which the loan was funded  \n",
       "17                                                                                                                                                     The most recent month LC pulled credit for this loan  \n",
       "18                                                                                                                                                                       Last total payment amount received  \n",
       "19                                                                                                                                                                          Last month payment was received  \n",
       "20                             The listed amount of the loan applied for by the borrower. If at some point in time, the credit department reduces the loan amount, then it will be reflected in this value.  \n",
       "21                                                                                                                                                                               Current status of the loan  \n",
       "22                                                                                                                                                         A unique LC assigned Id for the borrower member.  \n",
       "23                                  The number of months since the borrower's last delinquency. NA is good, and then higher the value is better then lower value, it shows the stability of credit profile.  \n",
       "24  The number of open credit lines in the borrower's credit file. More credit lines would show the behavior of taking larger liabilities, which may or may not good, need to correlate with loan status...  \n",
       "25                                                                                                                                                  Remaining outstanding principal for total amount funded  \n",
       "26                                                                                                                          Remaining outstanding principal for portion of total amount funded by investors  \n",
       "27                                      Number of derogatory public records, NA is good, but higher the number then lower the credit rating for the person. It shows that person is meticulous in payments.  \n",
       "28                                       Number of public record bankruptcies, NA is good, but higher bankruptcies mean the person often does not have capacity to pay and may have erratic income sources.  \n",
       "29                                                                            A category provided by the borrower for the loan request.  Purpose can be a good candidate for segmented univeriate analysis.  \n",
       "30                                                                                                                                                                           post charge off gross recovery  \n",
       "31                                    Total credit revolving balance. This is basically rollover credit balance (basically paying your credit card bill partially or no payment). Higher the amount is bad.  \n",
       "32  Revolving line utilization rate, or the amount of credit the borrower is using relative to all available revolving credit. The utilization ratio, lower is better. Good candidate for segmented univ...  \n",
       "33                                                                                                                                                                                LC assigned loan subgrade  \n",
       "34                                                                                                                     The number of payments on the loan. Values are in months and can be either 36 or 60.  \n",
       "35                                                                                                                                 The total number of credit lines currently in the borrower's credit file  \n",
       "36                                                                                                                                                        Payments received to date for total amount funded  \n",
       "37                                                                                                                                Payments received to date for portion of total amount funded by investors  \n",
       "38                                                                                                                                                                                Interest received to date  \n",
       "39                                                                                                                                                                               Late fees received to date  \n",
       "40                                                                                                                                                                               Principal received to date  \n",
       "41                                                                                                               Indicates if income was verified by LC, not verified, or if the income source was verified  \n",
       "42                                                                                                                    The first 3 numbers of the zip code provided by the borrower in the loan application.  "
      ]
     },
     "execution_count": 22,
     "metadata": {},
     "output_type": "execute_result"
    }
   ],
   "source": [
    "column_desc_df.loc[:, ['LoanStatNew', 'Description']]"
   ]
  },
  {
   "cell_type": "markdown",
   "id": "219ab3db-7c12-4bad-90d9-7d7196d23308",
   "metadata": {},
   "source": [
    "### Find and remove outliers"
   ]
  },
  {
   "cell_type": "markdown",
   "id": "c43f68c8-2868-48f0-b130-92ebbddeefc0",
   "metadata": {},
   "source": [
    "### Analyze columns of interest"
   ]
  },
  {
   "cell_type": "code",
   "execution_count": null,
   "id": "96651254-ba2d-4b7b-bfe5-4296d7dd187b",
   "metadata": {},
   "outputs": [],
   "source": []
  }
 ],
 "metadata": {
  "kernelspec": {
   "display_name": "Python 3 (ipykernel)",
   "language": "python",
   "name": "python3"
  },
  "language_info": {
   "codemirror_mode": {
    "name": "ipython",
    "version": 3
   },
   "file_extension": ".py",
   "mimetype": "text/x-python",
   "name": "python",
   "nbconvert_exporter": "python",
   "pygments_lexer": "ipython3",
   "version": "3.10.12"
  },
  "toc-autonumbering": false,
  "toc-showcode": false,
  "toc-showmarkdowntxt": false
 },
 "nbformat": 4,
 "nbformat_minor": 5
}
