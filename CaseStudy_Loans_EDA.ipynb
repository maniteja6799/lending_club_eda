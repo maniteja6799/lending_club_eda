{
 "cells": [
  {
   "cell_type": "code",
   "execution_count": 1,
   "id": "d22dc909",
   "metadata": {
    "tags": []
   },
   "outputs": [],
   "source": [
    "import numpy as np, pandas as pd\n",
    "import matplotlib.pyplot as plt\n",
    "import re"
   ]
  },
  {
   "cell_type": "code",
   "execution_count": 2,
   "id": "2ea9510b-ede9-46fc-a813-c8f39458b751",
   "metadata": {
    "tags": []
   },
   "outputs": [],
   "source": [
    "pd.options.display.max_colwidth = 200"
   ]
  },
  {
   "cell_type": "markdown",
   "id": "662b2da7-3703-4786-b130-19cc6273362d",
   "metadata": {},
   "source": [
    "### Load and inspect data"
   ]
  },
  {
   "cell_type": "code",
   "execution_count": 3,
   "id": "c40eeffc",
   "metadata": {
    "tags": []
   },
   "outputs": [
    {
     "name": "stdout",
     "output_type": "stream",
     "text": [
      "<class 'pandas.core.frame.DataFrame'>\n",
      "RangeIndex: 39717 entries, 0 to 39716\n",
      "Columns: 111 entries, id to total_il_high_credit_limit\n",
      "dtypes: float64(74), int64(13), object(24)\n",
      "memory usage: 33.6+ MB\n"
     ]
    }
   ],
   "source": [
    "loan_data_df = pd.read_csv('loan.csv', low_memory=False)\n",
    "column_desc_df = pd.read_excel('Data_Dictionary.xlsx')\n",
    "loan_data_df.info()"
   ]
  },
  {
   "cell_type": "markdown",
   "id": "b53d0501-d2bd-4b8f-843c-cdff6f987a9a",
   "metadata": {},
   "source": [
    "### Data Clean up"
   ]
  },
  {
   "cell_type": "markdown",
   "id": "a954eb02-f1dd-4163-8f08-a200df3b9783",
   "metadata": {},
   "source": [
    "#### Delete all empty columns"
   ]
  },
  {
   "cell_type": "code",
   "execution_count": 4,
   "id": "2994efd4",
   "metadata": {
    "tags": []
   },
   "outputs": [
    {
     "name": "stdout",
     "output_type": "stream",
     "text": [
      "Number of columns where all data is empty: 54\n"
     ]
    }
   ],
   "source": [
    "empty_columns = loan_data_df.isna().all().sum()\n",
    "print(f\"Number of columns where all data is empty: {empty_columns}\")\n",
    "# Remove all columns with null values\n",
    "loan_data_df = loan_data_df.dropna(axis=1, how='all')\n",
    "# Remove all columns with 90% null values\n",
    "loan_data_df = loan_data_df.loc[:, (loan_data_df.isnull().sum(axis=0) <= loan_data_df.shape[0] * 0.9)]"
   ]
  },
  {
   "cell_type": "markdown",
   "id": "a7148b16-beae-4a3d-a091-6a2529da42af",
   "metadata": {},
   "source": [
    "#### Remove columns which have constant as a value. \n",
    "These will become metadata for the dataset because the dataset has only one value for them.\n",
    "eg. all values in column: pymnt_plan are `n`."
   ]
  },
  {
   "cell_type": "code",
   "execution_count": 5,
   "id": "3b696398",
   "metadata": {
    "tags": []
   },
   "outputs": [
    {
     "name": "stdout",
     "output_type": "stream",
     "text": [
      "Column: pymnt_plan has value: n\n",
      "Column: initial_list_status has value: f\n",
      "Column: collections_12_mths_ex_med has value: 0.0\n",
      "Column: policy_code has value: 1\n",
      "Column: application_type has value: INDIVIDUAL\n",
      "Column: acc_now_delinq has value: 0\n",
      "Column: chargeoff_within_12_mths has value: 0.0\n",
      "Column: delinq_amnt has value: 0\n",
      "Column: tax_liens has value: 0.0\n",
      "Columns to be removed: ['pymnt_plan', 'initial_list_status', 'collections_12_mths_ex_med', 'policy_code', 'application_type', 'acc_now_delinq', 'chargeoff_within_12_mths', 'delinq_amnt', 'tax_liens']\n"
     ]
    }
   ],
   "source": [
    "constant_cols = []\n",
    "for col in loan_data_df.columns:\n",
    "    if loan_data_df[col].value_counts().count() == 1:\n",
    "        constant_cols.append(col)\n",
    "        print(f\"Column: {col} has value: {loan_data_df[col].value_counts().index[0]}\")\n",
    "print(f\"Columns to be removed: {constant_cols}\")\n",
    "loan_data_df.drop(columns=constant_cols, inplace=True) "
   ]
  },
  {
   "cell_type": "markdown",
   "id": "4f0fd843-80e1-4dd1-9eaa-b1e640f03081",
   "metadata": {},
   "source": [
    "#### Inspecting data in columns, \n",
    "Some columns can be removed since they don't give much use to the analysis"
   ]
  },
  {
   "cell_type": "code",
   "execution_count": 6,
   "id": "978f12a2-e054-46f1-abc9-ab8051bd01af",
   "metadata": {
    "tags": []
   },
   "outputs": [
    {
     "name": "stdout",
     "output_type": "stream",
     "text": [
      "desc, purpose, title are similar - title and desc seem to be human added and have more distinct values. Purpose has a finite list and it alone can be looked at and drop desc and title.\n",
      "\n",
      "-------title-----------\n",
      " Index(['Debt Consolidation', 'Debt Consolidation Loan', 'Personal Loan',\n",
      "       'Consolidation', 'debt consolidation', 'Home Improvement',\n",
      "       'Credit Card Consolidation', 'Debt consolidation',\n",
      "       'Small Business Loan', 'Credit Card Loan',\n",
      "       ...\n",
      "       'Stav', 'Florida Vacation 2011', 'Ninja zx6', 'Pay off Masters Degree',\n",
      "       'CREDIT CARD CONSOLIDATION LOAN 01', 'your rate is better than my rate',\n",
      "       'Concession Trailer', 'gregs', 'EZover', 'JAL Loan'],\n",
      "      dtype='object', length=19615) \n",
      "-------purpose-----------\n",
      " Index(['debt_consolidation', 'credit_card', 'other', 'home_improvement',\n",
      "       'major_purchase', 'small_business', 'car', 'wedding', 'medical',\n",
      "       'moving', 'vacation', 'house', 'educational', 'renewable_energy'],\n",
      "      dtype='object')\n",
      "url column has external url for lending club, and not much use to analysys\n",
      "0    https://lendingclub.com/browse/loanDetail.action?loan_id=1077501\n",
      "1    https://lendingclub.com/browse/loanDetail.action?loan_id=1077430\n",
      "2    https://lendingclub.com/browse/loanDetail.action?loan_id=1077175\n",
      "3    https://lendingclub.com/browse/loanDetail.action?loan_id=1076863\n",
      "4    https://lendingclub.com/browse/loanDetail.action?loan_id=1075358\n",
      "Name: url, dtype: object\n"
     ]
    }
   ],
   "source": [
    "print(\"desc, purpose, title are similar - title and desc seem to be human added and have more distinct values. Purpose has a finite list and it alone can be looked at and drop desc and title.\")\n",
    "print(\"\\n-------title-----------\\n\", loan_data_df.title.value_counts().index, \n",
    "      # \"\\n-------desc----------\\n\", loan_data_df.desc.value_counts().index, # Too much data. skipping print\n",
    "      \"\\n-------purpose-----------\\n\", loan_data_df.purpose.value_counts().index)\n",
    "cols_to_drop = ['title', 'desc']\n",
    "print(\"url column has external url for lending club, and not much use to analysys\")\n",
    "print(loan_data_df.url.head())\n",
    "cols_to_drop.append('url')\n",
    "loan_data_df.drop(columns=cols_to_drop, inplace=True) "
   ]
  },
  {
   "cell_type": "markdown",
   "id": "d4055cd4-d066-4dca-b8f4-c27a32dd23fa",
   "metadata": {},
   "source": [
    "#### Dataset after removed columns"
   ]
  },
  {
   "cell_type": "code",
   "execution_count": 8,
   "id": "462b5497-b2bf-49aa-bdb9-0254592e6e56",
   "metadata": {
    "tags": []
   },
   "outputs": [
    {
     "name": "stdout",
     "output_type": "stream",
     "text": [
      "<class 'pandas.core.frame.DataFrame'>\n",
      "RangeIndex: 39717 entries, 0 to 39716\n",
      "Data columns (total 43 columns):\n",
      " #   Column                   Non-Null Count  Dtype  \n",
      "---  ------                   --------------  -----  \n",
      " 0   id                       39717 non-null  int64  \n",
      " 1   member_id                39717 non-null  int64  \n",
      " 2   loan_amnt                39717 non-null  int64  \n",
      " 3   funded_amnt              39717 non-null  int64  \n",
      " 4   funded_amnt_inv          39717 non-null  float64\n",
      " 5   term                     39717 non-null  object \n",
      " 6   int_rate                 39717 non-null  object \n",
      " 7   installment              39717 non-null  float64\n",
      " 8   grade                    39717 non-null  object \n",
      " 9   sub_grade                39717 non-null  object \n",
      " 10  emp_title                37258 non-null  object \n",
      " 11  emp_length               38642 non-null  object \n",
      " 12  home_ownership           39717 non-null  object \n",
      " 13  annual_inc               39717 non-null  float64\n",
      " 14  verification_status      39717 non-null  object \n",
      " 15  issue_d                  39717 non-null  object \n",
      " 16  loan_status              39717 non-null  object \n",
      " 17  purpose                  39717 non-null  object \n",
      " 18  zip_code                 39717 non-null  object \n",
      " 19  addr_state               39717 non-null  object \n",
      " 20  dti                      39717 non-null  float64\n",
      " 21  delinq_2yrs              39717 non-null  int64  \n",
      " 22  earliest_cr_line         39717 non-null  object \n",
      " 23  inq_last_6mths           39717 non-null  int64  \n",
      " 24  mths_since_last_delinq   14035 non-null  float64\n",
      " 25  open_acc                 39717 non-null  int64  \n",
      " 26  pub_rec                  39717 non-null  int64  \n",
      " 27  revol_bal                39717 non-null  int64  \n",
      " 28  revol_util               39667 non-null  object \n",
      " 29  total_acc                39717 non-null  int64  \n",
      " 30  out_prncp                39717 non-null  float64\n",
      " 31  out_prncp_inv            39717 non-null  float64\n",
      " 32  total_pymnt              39717 non-null  float64\n",
      " 33  total_pymnt_inv          39717 non-null  float64\n",
      " 34  total_rec_prncp          39717 non-null  float64\n",
      " 35  total_rec_int            39717 non-null  float64\n",
      " 36  total_rec_late_fee       39717 non-null  float64\n",
      " 37  recoveries               39717 non-null  float64\n",
      " 38  collection_recovery_fee  39717 non-null  float64\n",
      " 39  last_pymnt_d             39646 non-null  object \n",
      " 40  last_pymnt_amnt          39717 non-null  float64\n",
      " 41  last_credit_pull_d       39715 non-null  object \n",
      " 42  pub_rec_bankruptcies     39020 non-null  float64\n",
      "dtypes: float64(16), int64(10), object(17)\n",
      "memory usage: 13.0+ MB\n"
     ]
    }
   ],
   "source": [
    "loan_data_df.info()"
   ]
  },
  {
   "cell_type": "code",
   "execution_count": 9,
   "id": "9886835c",
   "metadata": {
    "tags": []
   },
   "outputs": [],
   "source": [
    "column_desc_df = column_desc_df[column_desc_df.LoanStatNew.isin(loan_data_df.columns)]\n",
    "column_desc_df.reset_index(inplace=True)"
   ]
  },
  {
   "cell_type": "code",
   "execution_count": 10,
   "id": "e4e61f9b",
   "metadata": {
    "tags": []
   },
   "outputs": [
    {
     "data": {
      "text/html": [
       "<div>\n",
       "<style scoped>\n",
       "    .dataframe tbody tr th:only-of-type {\n",
       "        vertical-align: middle;\n",
       "    }\n",
       "\n",
       "    .dataframe tbody tr th {\n",
       "        vertical-align: top;\n",
       "    }\n",
       "\n",
       "    .dataframe thead th {\n",
       "        text-align: right;\n",
       "    }\n",
       "</style>\n",
       "<table border=\"1\" class=\"dataframe\">\n",
       "  <thead>\n",
       "    <tr style=\"text-align: right;\">\n",
       "      <th></th>\n",
       "      <th>LoanStatNew</th>\n",
       "      <th>Description</th>\n",
       "    </tr>\n",
       "  </thead>\n",
       "  <tbody>\n",
       "    <tr>\n",
       "      <th>0</th>\n",
       "      <td>addr_state</td>\n",
       "      <td>The state provided by the borrower in the loan application</td>\n",
       "    </tr>\n",
       "    <tr>\n",
       "      <th>1</th>\n",
       "      <td>annual_inc</td>\n",
       "      <td>The self-reported annual income provided by the borrower during registration.</td>\n",
       "    </tr>\n",
       "    <tr>\n",
       "      <th>2</th>\n",
       "      <td>collection_recovery_fee</td>\n",
       "      <td>post charge off collection fee</td>\n",
       "    </tr>\n",
       "    <tr>\n",
       "      <th>3</th>\n",
       "      <td>delinq_2yrs</td>\n",
       "      <td>The number of 30+ days past-due incidences of delinquency in the borrower's credit file for the past 2 years</td>\n",
       "    </tr>\n",
       "    <tr>\n",
       "      <th>4</th>\n",
       "      <td>dti</td>\n",
       "      <td>A ratio calculated using the borrower’s total monthly debt payments on the total debt obligations, excluding mortgage and the requested LC loan, divided by the borrower’s self-reported monthly inc...</td>\n",
       "    </tr>\n",
       "    <tr>\n",
       "      <th>5</th>\n",
       "      <td>earliest_cr_line</td>\n",
       "      <td>The month the borrower's earliest reported credit line was opened</td>\n",
       "    </tr>\n",
       "    <tr>\n",
       "      <th>6</th>\n",
       "      <td>emp_length</td>\n",
       "      <td>Employment length in years. Possible values are between 0 and 10 where 0 means less than one year and 10 means ten or more years.</td>\n",
       "    </tr>\n",
       "    <tr>\n",
       "      <th>7</th>\n",
       "      <td>emp_title</td>\n",
       "      <td>The job title supplied by the Borrower when applying for the loan.*</td>\n",
       "    </tr>\n",
       "    <tr>\n",
       "      <th>8</th>\n",
       "      <td>funded_amnt</td>\n",
       "      <td>The total amount committed to that loan at that point in time.</td>\n",
       "    </tr>\n",
       "    <tr>\n",
       "      <th>9</th>\n",
       "      <td>funded_amnt_inv</td>\n",
       "      <td>The total amount committed by investors for that loan at that point in time.</td>\n",
       "    </tr>\n",
       "    <tr>\n",
       "      <th>10</th>\n",
       "      <td>grade</td>\n",
       "      <td>LC assigned loan grade</td>\n",
       "    </tr>\n",
       "    <tr>\n",
       "      <th>11</th>\n",
       "      <td>home_ownership</td>\n",
       "      <td>The home ownership status provided by the borrower during registration. Our values are: RENT, OWN, MORTGAGE, OTHER.</td>\n",
       "    </tr>\n",
       "    <tr>\n",
       "      <th>12</th>\n",
       "      <td>id</td>\n",
       "      <td>A unique LC assigned ID for the loan listing.</td>\n",
       "    </tr>\n",
       "    <tr>\n",
       "      <th>13</th>\n",
       "      <td>inq_last_6mths</td>\n",
       "      <td>The number of inquiries in past 6 months (excluding auto and mortgage inquiries)</td>\n",
       "    </tr>\n",
       "    <tr>\n",
       "      <th>14</th>\n",
       "      <td>installment</td>\n",
       "      <td>The monthly payment owed by the borrower if the loan originates.</td>\n",
       "    </tr>\n",
       "    <tr>\n",
       "      <th>15</th>\n",
       "      <td>int_rate</td>\n",
       "      <td>Interest Rate on the loan</td>\n",
       "    </tr>\n",
       "    <tr>\n",
       "      <th>16</th>\n",
       "      <td>issue_d</td>\n",
       "      <td>The month which the loan was funded</td>\n",
       "    </tr>\n",
       "    <tr>\n",
       "      <th>17</th>\n",
       "      <td>last_credit_pull_d</td>\n",
       "      <td>The most recent month LC pulled credit for this loan</td>\n",
       "    </tr>\n",
       "    <tr>\n",
       "      <th>18</th>\n",
       "      <td>last_pymnt_amnt</td>\n",
       "      <td>Last total payment amount received</td>\n",
       "    </tr>\n",
       "    <tr>\n",
       "      <th>19</th>\n",
       "      <td>last_pymnt_d</td>\n",
       "      <td>Last month payment was received</td>\n",
       "    </tr>\n",
       "    <tr>\n",
       "      <th>20</th>\n",
       "      <td>loan_amnt</td>\n",
       "      <td>The listed amount of the loan applied for by the borrower. If at some point in time, the credit department reduces the loan amount, then it will be reflected in this value.</td>\n",
       "    </tr>\n",
       "    <tr>\n",
       "      <th>21</th>\n",
       "      <td>loan_status</td>\n",
       "      <td>Current status of the loan</td>\n",
       "    </tr>\n",
       "    <tr>\n",
       "      <th>22</th>\n",
       "      <td>member_id</td>\n",
       "      <td>A unique LC assigned Id for the borrower member.</td>\n",
       "    </tr>\n",
       "    <tr>\n",
       "      <th>23</th>\n",
       "      <td>mths_since_last_delinq</td>\n",
       "      <td>The number of months since the borrower's last delinquency.</td>\n",
       "    </tr>\n",
       "    <tr>\n",
       "      <th>24</th>\n",
       "      <td>open_acc</td>\n",
       "      <td>The number of open credit lines in the borrower's credit file.</td>\n",
       "    </tr>\n",
       "    <tr>\n",
       "      <th>25</th>\n",
       "      <td>out_prncp</td>\n",
       "      <td>Remaining outstanding principal for total amount funded</td>\n",
       "    </tr>\n",
       "    <tr>\n",
       "      <th>26</th>\n",
       "      <td>out_prncp_inv</td>\n",
       "      <td>Remaining outstanding principal for portion of total amount funded by investors</td>\n",
       "    </tr>\n",
       "    <tr>\n",
       "      <th>27</th>\n",
       "      <td>pub_rec</td>\n",
       "      <td>Number of derogatory public records</td>\n",
       "    </tr>\n",
       "    <tr>\n",
       "      <th>28</th>\n",
       "      <td>pub_rec_bankruptcies</td>\n",
       "      <td>Number of public record bankruptcies</td>\n",
       "    </tr>\n",
       "    <tr>\n",
       "      <th>29</th>\n",
       "      <td>purpose</td>\n",
       "      <td>A category provided by the borrower for the loan request.</td>\n",
       "    </tr>\n",
       "    <tr>\n",
       "      <th>30</th>\n",
       "      <td>recoveries</td>\n",
       "      <td>post charge off gross recovery</td>\n",
       "    </tr>\n",
       "    <tr>\n",
       "      <th>31</th>\n",
       "      <td>revol_bal</td>\n",
       "      <td>Total credit revolving balance</td>\n",
       "    </tr>\n",
       "    <tr>\n",
       "      <th>32</th>\n",
       "      <td>revol_util</td>\n",
       "      <td>Revolving line utilization rate, or the amount of credit the borrower is using relative to all available revolving credit.</td>\n",
       "    </tr>\n",
       "    <tr>\n",
       "      <th>33</th>\n",
       "      <td>sub_grade</td>\n",
       "      <td>LC assigned loan subgrade</td>\n",
       "    </tr>\n",
       "    <tr>\n",
       "      <th>34</th>\n",
       "      <td>term</td>\n",
       "      <td>The number of payments on the loan. Values are in months and can be either 36 or 60.</td>\n",
       "    </tr>\n",
       "    <tr>\n",
       "      <th>35</th>\n",
       "      <td>total_acc</td>\n",
       "      <td>The total number of credit lines currently in the borrower's credit file</td>\n",
       "    </tr>\n",
       "    <tr>\n",
       "      <th>36</th>\n",
       "      <td>total_pymnt</td>\n",
       "      <td>Payments received to date for total amount funded</td>\n",
       "    </tr>\n",
       "    <tr>\n",
       "      <th>37</th>\n",
       "      <td>total_pymnt_inv</td>\n",
       "      <td>Payments received to date for portion of total amount funded by investors</td>\n",
       "    </tr>\n",
       "    <tr>\n",
       "      <th>38</th>\n",
       "      <td>total_rec_int</td>\n",
       "      <td>Interest received to date</td>\n",
       "    </tr>\n",
       "    <tr>\n",
       "      <th>39</th>\n",
       "      <td>total_rec_late_fee</td>\n",
       "      <td>Late fees received to date</td>\n",
       "    </tr>\n",
       "    <tr>\n",
       "      <th>40</th>\n",
       "      <td>total_rec_prncp</td>\n",
       "      <td>Principal received to date</td>\n",
       "    </tr>\n",
       "    <tr>\n",
       "      <th>41</th>\n",
       "      <td>verification_status</td>\n",
       "      <td>Indicates if income was verified by LC, not verified, or if the income source was verified</td>\n",
       "    </tr>\n",
       "    <tr>\n",
       "      <th>42</th>\n",
       "      <td>zip_code</td>\n",
       "      <td>The first 3 numbers of the zip code provided by the borrower in the loan application.</td>\n",
       "    </tr>\n",
       "  </tbody>\n",
       "</table>\n",
       "</div>"
      ],
      "text/plain": [
       "                LoanStatNew  \\\n",
       "0                addr_state   \n",
       "1                annual_inc   \n",
       "2   collection_recovery_fee   \n",
       "3               delinq_2yrs   \n",
       "4                       dti   \n",
       "5          earliest_cr_line   \n",
       "6                emp_length   \n",
       "7                 emp_title   \n",
       "8               funded_amnt   \n",
       "9           funded_amnt_inv   \n",
       "10                    grade   \n",
       "11           home_ownership   \n",
       "12                       id   \n",
       "13           inq_last_6mths   \n",
       "14              installment   \n",
       "15                 int_rate   \n",
       "16                  issue_d   \n",
       "17       last_credit_pull_d   \n",
       "18          last_pymnt_amnt   \n",
       "19             last_pymnt_d   \n",
       "20                loan_amnt   \n",
       "21              loan_status   \n",
       "22                member_id   \n",
       "23   mths_since_last_delinq   \n",
       "24                 open_acc   \n",
       "25                out_prncp   \n",
       "26            out_prncp_inv   \n",
       "27                  pub_rec   \n",
       "28     pub_rec_bankruptcies   \n",
       "29                  purpose   \n",
       "30               recoveries   \n",
       "31                revol_bal   \n",
       "32               revol_util   \n",
       "33                sub_grade   \n",
       "34                     term   \n",
       "35                total_acc   \n",
       "36              total_pymnt   \n",
       "37          total_pymnt_inv   \n",
       "38            total_rec_int   \n",
       "39       total_rec_late_fee   \n",
       "40          total_rec_prncp   \n",
       "41      verification_status   \n",
       "42                 zip_code   \n",
       "\n",
       "                                                                                                                                                                                                Description  \n",
       "0                                                                                                                                                The state provided by the borrower in the loan application  \n",
       "1                                                                                                                             The self-reported annual income provided by the borrower during registration.  \n",
       "2                                                                                                                                                                            post charge off collection fee  \n",
       "3                                                                                              The number of 30+ days past-due incidences of delinquency in the borrower's credit file for the past 2 years  \n",
       "4   A ratio calculated using the borrower’s total monthly debt payments on the total debt obligations, excluding mortgage and the requested LC loan, divided by the borrower’s self-reported monthly inc...  \n",
       "5                                                                                                                                         The month the borrower's earliest reported credit line was opened  \n",
       "6                                                                        Employment length in years. Possible values are between 0 and 10 where 0 means less than one year and 10 means ten or more years.   \n",
       "7                                                                                                                                       The job title supplied by the Borrower when applying for the loan.*  \n",
       "8                                                                                                                                            The total amount committed to that loan at that point in time.  \n",
       "9                                                                                                                              The total amount committed by investors for that loan at that point in time.  \n",
       "10                                                                                                                                                                                   LC assigned loan grade  \n",
       "11                                                                                      The home ownership status provided by the borrower during registration. Our values are: RENT, OWN, MORTGAGE, OTHER.  \n",
       "12                                                                                                                                                            A unique LC assigned ID for the loan listing.  \n",
       "13                                                                                                                         The number of inquiries in past 6 months (excluding auto and mortgage inquiries)  \n",
       "14                                                                                                                                         The monthly payment owed by the borrower if the loan originates.  \n",
       "15                                                                                                                                                                                Interest Rate on the loan  \n",
       "16                                                                                                                                                                      The month which the loan was funded  \n",
       "17                                                                                                                                                     The most recent month LC pulled credit for this loan  \n",
       "18                                                                                                                                                                       Last total payment amount received  \n",
       "19                                                                                                                                                                          Last month payment was received  \n",
       "20                             The listed amount of the loan applied for by the borrower. If at some point in time, the credit department reduces the loan amount, then it will be reflected in this value.  \n",
       "21                                                                                                                                                                               Current status of the loan  \n",
       "22                                                                                                                                                         A unique LC assigned Id for the borrower member.  \n",
       "23                                                                                                                                              The number of months since the borrower's last delinquency.  \n",
       "24                                                                                                                                           The number of open credit lines in the borrower's credit file.  \n",
       "25                                                                                                                                                  Remaining outstanding principal for total amount funded  \n",
       "26                                                                                                                          Remaining outstanding principal for portion of total amount funded by investors  \n",
       "27                                                                                                                                                                      Number of derogatory public records  \n",
       "28                                                                                                                                                                     Number of public record bankruptcies  \n",
       "29                                                                                                                                               A category provided by the borrower for the loan request.   \n",
       "30                                                                                                                                                                           post charge off gross recovery  \n",
       "31                                                                                                                                                                           Total credit revolving balance  \n",
       "32                                                                               Revolving line utilization rate, or the amount of credit the borrower is using relative to all available revolving credit.  \n",
       "33                                                                                                                                                                                LC assigned loan subgrade  \n",
       "34                                                                                                                     The number of payments on the loan. Values are in months and can be either 36 or 60.  \n",
       "35                                                                                                                                 The total number of credit lines currently in the borrower's credit file  \n",
       "36                                                                                                                                                        Payments received to date for total amount funded  \n",
       "37                                                                                                                                Payments received to date for portion of total amount funded by investors  \n",
       "38                                                                                                                                                                                Interest received to date  \n",
       "39                                                                                                                                                                               Late fees received to date  \n",
       "40                                                                                                                                                                               Principal received to date  \n",
       "41                                                                                                               Indicates if income was verified by LC, not verified, or if the income source was verified  \n",
       "42                                                                                                                    The first 3 numbers of the zip code provided by the borrower in the loan application.  "
      ]
     },
     "execution_count": 10,
     "metadata": {},
     "output_type": "execute_result"
    }
   ],
   "source": [
    "column_desc_df.loc[:, ['LoanStatNew', 'Description']]"
   ]
  },
  {
   "cell_type": "markdown",
   "id": "0ba56050-08b6-42cc-bd26-db3ea2a9ed7c",
   "metadata": {},
   "source": [
    "#### Convert the columns to correct datatypes"
   ]
  },
  {
   "cell_type": "code",
   "execution_count": 11,
   "id": "0ead53fd-86c3-4739-b4fa-9c216c8214c0",
   "metadata": {
    "tags": []
   },
   "outputs": [],
   "source": [
    "def convert_emp_length(l):\n",
    "    if pd.isna(l):\n",
    "        return np.nan\n",
    "    elif l == '< 1 year':\n",
    "        return 0\n",
    "    elif l == '10+ years':\n",
    "        return 10\n",
    "    else:\n",
    "        return int(str(l)[0])"
   ]
  },
  {
   "cell_type": "code",
   "execution_count": 12,
   "id": "2728e07b-fff6-4d2d-8759-295d5127ce5b",
   "metadata": {
    "tags": []
   },
   "outputs": [],
   "source": [
    "# numbers\n",
    "loan_data_df.term               = loan_data_df.term.apply(lambda x: int(str(x)[:3]))\n",
    "loan_data_df.emp_length         = loan_data_df.emp_length.apply(convert_emp_length) \n",
    "# percentages\n",
    "loan_data_df.int_rate           = loan_data_df.int_rate.apply(lambda x: float(str(x)[:-1])/100)\n",
    "loan_data_df.revol_util         = loan_data_df.revol_util.apply(lambda x: (float(str(x)[:-1])/100) if str(x) != 'nan' else x)\n",
    "# dates\n",
    "loan_data_df.issue_d            = pd.to_datetime(loan_data_df.issue_d, format='%b-%y')\n",
    "loan_data_df.earliest_cr_line   = pd.to_datetime(loan_data_df.earliest_cr_line, format='%b-%y')\n",
    "loan_data_df.last_pymnt_d       = pd.to_datetime(loan_data_df.last_pymnt_d, format='%b-%y')\n",
    "loan_data_df.last_credit_pull_d = pd.to_datetime(loan_data_df.last_credit_pull_d, format='%b-%y')\n"
   ]
  },
  {
   "cell_type": "code",
   "execution_count": 13,
   "id": "8c9bcdfa-1601-41ae-93a3-732b69fbe2d4",
   "metadata": {
    "tags": []
   },
   "outputs": [
    {
     "name": "stdout",
     "output_type": "stream",
     "text": [
      "<class 'pandas.core.frame.DataFrame'>\n",
      "RangeIndex: 39717 entries, 0 to 39716\n",
      "Data columns (total 43 columns):\n",
      " #   Column                   Non-Null Count  Dtype         \n",
      "---  ------                   --------------  -----         \n",
      " 0   id                       39717 non-null  int64         \n",
      " 1   member_id                39717 non-null  int64         \n",
      " 2   loan_amnt                39717 non-null  int64         \n",
      " 3   funded_amnt              39717 non-null  int64         \n",
      " 4   funded_amnt_inv          39717 non-null  float64       \n",
      " 5   term                     39717 non-null  int64         \n",
      " 6   int_rate                 39717 non-null  float64       \n",
      " 7   installment              39717 non-null  float64       \n",
      " 8   grade                    39717 non-null  object        \n",
      " 9   sub_grade                39717 non-null  object        \n",
      " 10  emp_title                37258 non-null  object        \n",
      " 11  emp_length               38642 non-null  float64       \n",
      " 12  home_ownership           39717 non-null  object        \n",
      " 13  annual_inc               39717 non-null  float64       \n",
      " 14  verification_status      39717 non-null  object        \n",
      " 15  issue_d                  39717 non-null  datetime64[ns]\n",
      " 16  loan_status              39717 non-null  object        \n",
      " 17  purpose                  39717 non-null  object        \n",
      " 18  zip_code                 39717 non-null  object        \n",
      " 19  addr_state               39717 non-null  object        \n",
      " 20  dti                      39717 non-null  float64       \n",
      " 21  delinq_2yrs              39717 non-null  int64         \n",
      " 22  earliest_cr_line         39717 non-null  datetime64[ns]\n",
      " 23  inq_last_6mths           39717 non-null  int64         \n",
      " 24  mths_since_last_delinq   14035 non-null  float64       \n",
      " 25  open_acc                 39717 non-null  int64         \n",
      " 26  pub_rec                  39717 non-null  int64         \n",
      " 27  revol_bal                39717 non-null  int64         \n",
      " 28  revol_util               39667 non-null  float64       \n",
      " 29  total_acc                39717 non-null  int64         \n",
      " 30  out_prncp                39717 non-null  float64       \n",
      " 31  out_prncp_inv            39717 non-null  float64       \n",
      " 32  total_pymnt              39717 non-null  float64       \n",
      " 33  total_pymnt_inv          39717 non-null  float64       \n",
      " 34  total_rec_prncp          39717 non-null  float64       \n",
      " 35  total_rec_int            39717 non-null  float64       \n",
      " 36  total_rec_late_fee       39717 non-null  float64       \n",
      " 37  recoveries               39717 non-null  float64       \n",
      " 38  collection_recovery_fee  39717 non-null  float64       \n",
      " 39  last_pymnt_d             39646 non-null  datetime64[ns]\n",
      " 40  last_pymnt_amnt          39717 non-null  float64       \n",
      " 41  last_credit_pull_d       39715 non-null  datetime64[ns]\n",
      " 42  pub_rec_bankruptcies     39020 non-null  float64       \n",
      "dtypes: datetime64[ns](4), float64(19), int64(11), object(9)\n",
      "memory usage: 13.0+ MB\n"
     ]
    }
   ],
   "source": [
    "loan_data_df.info()"
   ]
  },
  {
   "cell_type": "markdown",
   "id": "9f4ae37e-cfdb-4ee6-87b0-f895abb53e65",
   "metadata": {},
   "source": [
    "### Remove/add value to rows with null values in certain columns"
   ]
  },
  {
   "cell_type": "code",
   "execution_count": 20,
   "id": "ce47c135-ac8a-4078-bb00-48592ae123fe",
   "metadata": {
    "tags": []
   },
   "outputs": [
    {
     "data": {
      "text/plain": [
       "emp_title                  2459\n",
       "emp_length                 1075\n",
       "mths_since_last_delinq    25682\n",
       "revol_util                   50\n",
       "last_pymnt_d                 71\n",
       "last_credit_pull_d            2\n",
       "pub_rec_bankruptcies        697\n",
       "dtype: int64"
      ]
     },
     "execution_count": 20,
     "metadata": {},
     "output_type": "execute_result"
    }
   ],
   "source": [
    "loan_data_df.isna().sum()[loan_data_df.isna().sum() > 0]"
   ]
  },
  {
   "cell_type": "code",
   "execution_count": 31,
   "id": "342e50dc-1a99-4490-b485-95cb2a985d33",
   "metadata": {
    "tags": []
   },
   "outputs": [
    {
     "data": {
      "text/plain": [
       "emp_title                  2446\n",
       "emp_length                 1067\n",
       "mths_since_last_delinq    25600\n",
       "pub_rec_bankruptcies        696\n",
       "dtype: int64"
      ]
     },
     "execution_count": 31,
     "metadata": {},
     "output_type": "execute_result"
    }
   ],
   "source": [
    "# Remove rows with very few (<100) NaNs:\n",
    "cols_with_few_nan_rows = list(loan_data_df.isna().sum()[(loan_data_df.isna().sum() < 100) & (loan_data_df.isna().sum() > 0)].index)\n",
    "for col in cols_with_few_nan_rows:\n",
    "    loan_data_df.drop(loan_data_df[loan_data_df[col].isna()].index, inplace=True)"
   ]
  },
  {
   "cell_type": "code",
   "execution_count": 33,
   "id": "94c9d83a-771a-4c9a-9af7-e76d34bf6a1c",
   "metadata": {
    "tags": []
   },
   "outputs": [
    {
     "name": "stdout",
     "output_type": "stream",
     "text": [
      "Columns with non-zero NaN values left:\n"
     ]
    },
    {
     "data": {
      "text/plain": [
       "emp_title                  2446\n",
       "emp_length                 1067\n",
       "mths_since_last_delinq    25600\n",
       "pub_rec_bankruptcies        696\n",
       "dtype: int64"
      ]
     },
     "execution_count": 33,
     "metadata": {},
     "output_type": "execute_result"
    }
   ],
   "source": [
    "print(\"Columns with non-zero NaN values left:\")\n",
    "loan_data_df.isna().sum()[loan_data_df.isna().sum() > 0]"
   ]
  },
  {
   "cell_type": "markdown",
   "id": "219ab3db-7c12-4bad-90d9-7d7196d23308",
   "metadata": {},
   "source": [
    "### Find and categorise columns of interest"
   ]
  },
  {
   "cell_type": "code",
   "execution_count": null,
   "id": "96651254-ba2d-4b7b-bfe5-4296d7dd187b",
   "metadata": {},
   "outputs": [],
   "source": []
  }
 ],
 "metadata": {
  "kernelspec": {
   "display_name": "Python 3 (ipykernel)",
   "language": "python",
   "name": "python3"
  },
  "language_info": {
   "codemirror_mode": {
    "name": "ipython",
    "version": 3
   },
   "file_extension": ".py",
   "mimetype": "text/x-python",
   "name": "python",
   "nbconvert_exporter": "python",
   "pygments_lexer": "ipython3",
   "version": "3.10.9"
  },
  "toc-autonumbering": false,
  "toc-showcode": false,
  "toc-showmarkdowntxt": false
 },
 "nbformat": 4,
 "nbformat_minor": 5
}
